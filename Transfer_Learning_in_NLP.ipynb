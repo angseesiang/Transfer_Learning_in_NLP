{
 "cells": [
  {
   "cell_type": "markdown",
   "metadata": {
    "id": "VK39__EXXm_d"
   },
   "source": [
    "# **Transfer Learning**\n",
    "\n",
    "Transfer learning is a machine learning technique in which knowledge gained through one task or dataset is used to improve model performance on another related task and/or different dataset.\n",
    "\n",
    "### Why Transfer Learning is important in NLP?\n",
    "\n",
    "Transfer Learning plays a vital role in Natural Language Processing (NLP) because it allows knowledge gained from one task or domain to be used in another, usually related, task or domain. This method is particularly beneficial in NLP for several reasons:\n",
    "\n",
    "1. **Data Efficiency**: NLP models generally need a large amount of labeled data to perform effectively. Transfer Learning helps by pretraining models on extensive datasets, like Wikipedia, and then fine-tuning them on smaller, task-specific datasets. This reduces the necessity for large amounts of labeled data for each specific task.\n",
    "\n",
    "2. **Resource Savings**: Training large NLP models from scratch is often costly and time-consuming. Using a pretrained model for fine-tuning requires fewer resources, making it more practical for researchers and practitioners.\n",
    "\n",
    "3. **Performance Improvement**: Pretrained models already contain useful linguistic features and patterns learned from vast text data. Fine-tuning these models for specific tasks usually enhances performance, especially when there is limited labeled data available.\n",
    "\n",
    "4. **Domain Adaptation**: Transfer Learning allows models to adapt to new domains or languages with minimal additional training, making it essential for NLP applications that need to perform well across various domains and languages.\n",
    "\n",
    "5. **Continual Learning**: A model trained through Transfer Learning can be easily updated or adjusted with new data, enabling it to continuously learn and improve its performance over time.\n",
    "\n",
    "### How Transfer Learning in NLP Works\n",
    "\n",
    "1.   **Pre-training on Large Datasets**: Initially, models are trained on extensive and diverse text corpora to learn general language features, such as syntax and semantics. This is done using methods like masked language modeling or autoregressive language modeling.\n",
    "\n",
    "2.   **Fine-Tuning on Specific Tasks**: After pre-training, these models are fine-tuned with smaller, specialized datasets to adjust their parameters for specific tasks, such as sentiment analysis or question answering.\n",
    "\n",
    "3.   **Efficiency and Performance**: Transfer learning greatly reduces the need for extensive computational resources and time for training. It also enhances model performance, particularly in situations where there is limited data.\n",
    "\n",
    "4.   **Applications Across Domains**: This approach is effective for adapting models to specialized domains, such as legal or medical fields, and for transferring knowledge from models trained in one language to others.\n",
    "\n",
    "5.   **Challenges**: There can be challenges, such as mismatches between the data used in pre-training and the specific task data, as well as the high computational demands associated with using large, complex models.\n",
    "\n",
    "### List of Transfer Learning NLP Models\n",
    "\n",
    "Here's a list of notable models in natural language processing that utilize transfer learning, each recognized for their unique contributions and advancements:\n",
    "\n",
    "1. **BERT (Bidirectional Encoder Representations from Transformers)**: Developed by Google, BERT uses a transformer-based architecture. It improves model understanding by employing techniques like masked language modeling and next sentence prediction.\n",
    "\n",
    "2. **GPT (Generative Pre-trained Transformer)**: Created by OpenAI, GPT models are known for their strength in text generation, using autoregressive language modeling during their training.\n",
    "\n",
    "3. **T5 (Text-To-Text Transfer Transformer)**: An innovation from Google, T5 reformulates all natural language processing tasks into a text-to-text framework, treating both inputs and outputs as text strings.\n",
    "\n",
    "4. **DistilBERT**: This streamlined version of BERT is designed to be smaller and faster while maintaining most of BERT’s original language understanding capabilities.\n",
    "\n",
    "5. **BART (Bidirectional and Auto-Regressive Transformers)**: BART combines the bidirectional training of BERT and the autoregressive features of GPT. It is trained by corrupting texts and learning to accurately reconstruct the original text."
   ]
  },
  {
   "cell_type": "markdown",
   "metadata": {
    "id": "FXyTHgykZTqN"
   },
   "source": [
    "# Transformers\n",
    "\n",
    "Let's have a quick look at the 😉 Transformers library features. The library downloads pretrained models for Natural Language Understanding (NLU) tasks, such as analyzing the sentiment of a text, and Natural Language Generation (NLG), such as completing a prompt with new text or translating in another language.\n",
    "\n",
    "First we will see how to easily leverage the pipeline API to quickly use those pretrained models at inference. Then, we will dig a little bit more and see how the library gives you access to those models and helps you preprocess your data."
   ]
  },
  {
   "cell_type": "markdown",
   "metadata": {
    "id": "j6PEQ71fZZ1N"
   },
   "source": [
    "# Getting started on a task with a pipeline\n",
    "\n",
    "The easiest way to use a pretrained model on a given task is to use pipeline. 😉 Transformers provides the following tasks out of the box:\n",
    "\n",
    "* Sentiment analysis: is a text positive or negative?\n",
    "* Text generation (in English): provide a prompt and the model will generate what follows.\n",
    "* Name entity recognition (NER): in an input sentence, label each word with the entity it represents (person, place, etc.)\n",
    "* Question answering: provide the model with some context and a question, extract the answer from the context.\n",
    "* Filling masked text: given a text with masked words (e.g., replaced by [MASK]), fill the blanks.\n",
    "* Summarization: generate a summary of a long text.\n",
    "* Translation: translate a text in another language.\n",
    "* Feature extraction: return a tensor representation of the text.\n",
    "\n",
    "Let's see how this work for sentiment analysis (the other tasks are all covered in the task summary):"
   ]
  },
  {
   "cell_type": "code",
   "execution_count": 1,
   "metadata": {
    "colab": {
     "base_uri": "https://localhost:8080/"
    },
    "id": "ipL7kgjYZ56h",
    "outputId": "4014cb04-a8be-4bf4-91bf-ba4f9fb4703e"
   },
   "outputs": [
    {
     "name": "stdout",
     "output_type": "stream",
     "text": [
      "Requirement already satisfied: transformers in /usr/local/lib/python3.12/dist-packages (4.56.1)\n",
      "Requirement already satisfied: filelock in /usr/local/lib/python3.12/dist-packages (from transformers) (3.19.1)\n",
      "Requirement already satisfied: huggingface-hub<1.0,>=0.34.0 in /usr/local/lib/python3.12/dist-packages (from transformers) (0.34.4)\n",
      "Requirement already satisfied: numpy>=1.17 in /usr/local/lib/python3.12/dist-packages (from transformers) (2.0.2)\n",
      "Requirement already satisfied: packaging>=20.0 in /usr/local/lib/python3.12/dist-packages (from transformers) (25.0)\n",
      "Requirement already satisfied: pyyaml>=5.1 in /usr/local/lib/python3.12/dist-packages (from transformers) (6.0.2)\n",
      "Requirement already satisfied: regex!=2019.12.17 in /usr/local/lib/python3.12/dist-packages (from transformers) (2024.11.6)\n",
      "Requirement already satisfied: requests in /usr/local/lib/python3.12/dist-packages (from transformers) (2.32.4)\n",
      "Requirement already satisfied: tokenizers<=0.23.0,>=0.22.0 in /usr/local/lib/python3.12/dist-packages (from transformers) (0.22.0)\n",
      "Requirement already satisfied: safetensors>=0.4.3 in /usr/local/lib/python3.12/dist-packages (from transformers) (0.6.2)\n",
      "Requirement already satisfied: tqdm>=4.27 in /usr/local/lib/python3.12/dist-packages (from transformers) (4.67.1)\n",
      "Requirement already satisfied: fsspec>=2023.5.0 in /usr/local/lib/python3.12/dist-packages (from huggingface-hub<1.0,>=0.34.0->transformers) (2025.3.0)\n",
      "Requirement already satisfied: typing-extensions>=3.7.4.3 in /usr/local/lib/python3.12/dist-packages (from huggingface-hub<1.0,>=0.34.0->transformers) (4.15.0)\n",
      "Requirement already satisfied: hf-xet<2.0.0,>=1.1.3 in /usr/local/lib/python3.12/dist-packages (from huggingface-hub<1.0,>=0.34.0->transformers) (1.1.9)\n",
      "Requirement already satisfied: charset_normalizer<4,>=2 in /usr/local/lib/python3.12/dist-packages (from requests->transformers) (3.4.3)\n",
      "Requirement already satisfied: idna<4,>=2.5 in /usr/local/lib/python3.12/dist-packages (from requests->transformers) (3.10)\n",
      "Requirement already satisfied: urllib3<3,>=1.21.1 in /usr/local/lib/python3.12/dist-packages (from requests->transformers) (2.5.0)\n",
      "Requirement already satisfied: certifi>=2017.4.17 in /usr/local/lib/python3.12/dist-packages (from requests->transformers) (2025.8.3)\n"
     ]
    }
   ],
   "source": [
    "! pip install transformers\n"
   ]
  },
  {
   "cell_type": "code",
   "execution_count": 2,
   "metadata": {
    "colab": {
     "base_uri": "https://localhost:8080/",
     "height": 326,
     "referenced_widgets": [
      "d1dccdbe77a24588b547c76e25750e35",
      "4da3f8e8756e4d8a9930baace61bdd27",
      "ec14af93fd7d45c3b740a5a9f29bf4c0",
      "4f972ee096e54d098d06d709e58ca511",
      "4741695d55cf40febbd9efd3d9286d0a",
      "39d44631b8314400a92b502ecf6582bf",
      "717a7fc53a57416da7fe91f60c23681e",
      "d6e9c3607aa64938871b177f3abf3ee1",
      "6dc41203d453491c9c29784432fb561d",
      "d2d46a5a22e3484899666dabd83689ca",
      "c437e39039494880bb2d1d92046c569f",
      "9e252931a5af4ad7b398515d7ced4e7f",
      "2f61eddc3edc4d228eb6cbf88cef038a",
      "7a855c9222944ca3b69268f63b4e524c",
      "c73e5cd7919e44fda03baad6c5886054",
      "853f6b66560d458a9e2b6a62f2dfec93",
      "770924ae48874932a29f669c34ea114e",
      "068777d4801f4861b550c308b7b23c68",
      "cbfae89613cb488aa8fa0b15bbc88fa2",
      "a2b2cb77f9a146bbad85b4792c9d38a8",
      "f5e23ec72c56458bb3ba32ecbb718dc8",
      "b3b68e5141044b018626c92a052a0aca",
      "35dadecc73c9481bbd058e2fe510a524",
      "61f7688ad7e24dd292c00b35eab39eec",
      "04097d928af04b2e9a86d0a1429f02f6",
      "a2aa44e558b746fc86ae5981d480cf26",
      "4f87d2cbc183462abea62557cdc7c302",
      "a19bd23f091c415bb6053d455d4b6dee",
      "3635f37293d5493c8abd0f87ef1a1225",
      "cea0bb43e7994535bfee2f4019358566",
      "58dcaf91c3f9405d92163df57dd59cf5",
      "579bb284edf74976970b63078edbc92a",
      "ad8328d31f1e44e48417362b7b385b32",
      "ff106b72a14748f68a328d57b6bffd68",
      "ffa82d9cc49e46b48707878db1dd35d0",
      "f734a7326f674821b26195fa17ccc514",
      "dc072a8cefa1407a9f422dd502b1a47b",
      "e9f760d9de3d46eca81fb5271ae7fff6",
      "230bed5878b34cc8aec6071eaae2038d",
      "18be72fad5d74c209d63605c7e2f5b1e",
      "e11a2712d0244fbe89856ee406212573",
      "875d21c28cc44ebaadd5dce4cff9737e",
      "00c2b470976346e9adc8082d8c058f33",
      "bbf0b7c244b7496fad69f839d0577fc5"
     ]
    },
    "id": "fwAjhgnjZ7RX",
    "outputId": "ae475e96-ed01-4b45-97e2-09af9a79d540"
   },
   "outputs": [
    {
     "name": "stderr",
     "output_type": "stream",
     "text": [
      "No model was supplied, defaulted to distilbert/distilbert-base-uncased-finetuned-sst-2-english and revision 714eb0f (https://huggingface.co/distilbert/distilbert-base-uncased-finetuned-sst-2-english).\n",
      "Using a pipeline without specifying a model name and revision in production is not recommended.\n",
      "/usr/local/lib/python3.12/dist-packages/huggingface_hub/utils/_auth.py:94: UserWarning: \n",
      "The secret `HF_TOKEN` does not exist in your Colab secrets.\n",
      "To authenticate with the Hugging Face Hub, create a token in your settings tab (https://huggingface.co/settings/tokens), set it as secret in your Google Colab and restart your session.\n",
      "You will be able to reuse this secret in all of your notebooks.\n",
      "Please note that authentication is recommended but still optional to access public models or datasets.\n",
      "  warnings.warn(\n"
     ]
    },
    {
     "data": {
      "application/vnd.jupyter.widget-view+json": {
       "model_id": "d1dccdbe77a24588b547c76e25750e35",
       "version_major": 2,
       "version_minor": 0
      },
      "text/plain": [
       "config.json:   0%|          | 0.00/629 [00:00<?, ?B/s]"
      ]
     },
     "metadata": {},
     "output_type": "display_data"
    },
    {
     "data": {
      "application/vnd.jupyter.widget-view+json": {
       "model_id": "9e252931a5af4ad7b398515d7ced4e7f",
       "version_major": 2,
       "version_minor": 0
      },
      "text/plain": [
       "model.safetensors:   0%|          | 0.00/268M [00:00<?, ?B/s]"
      ]
     },
     "metadata": {},
     "output_type": "display_data"
    },
    {
     "data": {
      "application/vnd.jupyter.widget-view+json": {
       "model_id": "35dadecc73c9481bbd058e2fe510a524",
       "version_major": 2,
       "version_minor": 0
      },
      "text/plain": [
       "tokenizer_config.json:   0%|          | 0.00/48.0 [00:00<?, ?B/s]"
      ]
     },
     "metadata": {},
     "output_type": "display_data"
    },
    {
     "data": {
      "application/vnd.jupyter.widget-view+json": {
       "model_id": "ff106b72a14748f68a328d57b6bffd68",
       "version_major": 2,
       "version_minor": 0
      },
      "text/plain": [
       "vocab.txt: 0.00B [00:00, ?B/s]"
      ]
     },
     "metadata": {},
     "output_type": "display_data"
    },
    {
     "name": "stderr",
     "output_type": "stream",
     "text": [
      "Device set to use cpu\n"
     ]
    }
   ],
   "source": [
    "from transformers import pipeline\n",
    "classifier = pipeline('sentiment-analysis')\n"
   ]
  },
  {
   "cell_type": "code",
   "execution_count": 3,
   "metadata": {
    "colab": {
     "base_uri": "https://localhost:8080/"
    },
    "id": "kl8G3IS8Z80w",
    "outputId": "e6f95ae0-51ae-46b3-dc5e-94ab99aaca3d"
   },
   "outputs": [
    {
     "data": {
      "text/plain": [
       "[{'label': 'POSITIVE', 'score': 0.9998376369476318}]"
      ]
     },
     "execution_count": 3,
     "metadata": {},
     "output_type": "execute_result"
    }
   ],
   "source": [
    "classifier('We are very happy to be a part of this LLM course')\n"
   ]
  },
  {
   "cell_type": "code",
   "execution_count": 4,
   "metadata": {
    "colab": {
     "base_uri": "https://localhost:8080/"
    },
    "id": "Ep1wsPxCaqKb",
    "outputId": "21c28b5c-66b9-441d-c360-0901b0956b2c"
   },
   "outputs": [
    {
     "data": {
      "text/plain": [
       "[{'label': 'NEGATIVE', 'score': 0.9933103322982788}]"
      ]
     },
     "execution_count": 4,
     "metadata": {},
     "output_type": "execute_result"
    }
   ],
   "source": [
    "classifier('The LLM course is great except this module is too long')\n"
   ]
  },
  {
   "cell_type": "code",
   "execution_count": 5,
   "metadata": {
    "colab": {
     "base_uri": "https://localhost:8080/"
    },
    "id": "swNA3JjNasbT",
    "outputId": "26085a49-4f14-4e01-bf74-2efce2602de7"
   },
   "outputs": [
    {
     "name": "stdout",
     "output_type": "stream",
     "text": [
      "label: POSITIVE, with score: 0.9998\n",
      "label: NEGATIVE, with score: 0.5309\n"
     ]
    }
   ],
   "source": [
    "results = classifier([\"We are very happy to show you the 😉 Transformers library.\",\n",
    "                      \"We hope you don't hate it.\"])\n",
    "for result in results:\n",
    "    print(f\"label: {result['label']}, with score: {round(result['score'], 4)}\")\n"
   ]
  },
  {
   "cell_type": "markdown",
   "metadata": {
    "id": "mYClYiDma3Zh"
   },
   "source": [
    "You can see the second sentence has been classified as negative (it needs to be positive or negative) but its score is fairly neutral.\n",
    "\n",
    "By default, the model downloaded for this pipeline is called \"distilbert-base-uncased-finetuned-sst-2-english\". We can look at its [model page](https://huggingface.co/distilbert-base-uncased-finetuned-sst-2-english\n",
    ")  to get more information about it. It uses the [DistilBERT architecture](https://huggingface.co/transformers/model_doc/distilbert.html\n",
    ") and has been fine-tuned on a dataset called SST-2 for the sentiment analysis task.\n",
    "\n",
    "Let's say we want to use another model; for instance, one that has been trained on French data. We can search through the [model hub](https://huggingface.co/models\n",
    ") that gathers models pretrained on a lot of data by research labs, but also community models (usually fine-tuned versions of those big models on a specific dataset). Applying the tags \"French\" and \"text-classification\" gives back a suggestion \"nlptown/bert-base-multilingual-uncased-sentiment\". Let's see how we can use it.\n",
    "\n",
    "You can directly pass the name of the model to use to pipeline:"
   ]
  },
  {
   "cell_type": "code",
   "execution_count": 6,
   "metadata": {
    "colab": {
     "base_uri": "https://localhost:8080/",
     "height": 195,
     "referenced_widgets": [
      "e054975033d64abdaa23d7d0676d952e",
      "2fe51eb6d21045a68d58c2baf750eec3",
      "e9d3ed4647a042739402c9dbb75364af",
      "39871f94224544bc8ae060da257acd5f",
      "7aaac478fdd144eb953bb45bc9f24c86",
      "bd53932e215248a8aa78cbeccca918a8",
      "0cbba0c50b3740769273169198e5b776",
      "36c62ac5cc004a7b9e2946253fe5655f",
      "241f49dbcc3444b8899aea665f3b9eb9",
      "6f6af635858348a1bee3e1d43608bd4b",
      "ffbf0287d7734298bab6a75c4abb8a6f",
      "f3f878c399ca4c46afdd5124afe376c8",
      "06646b16d666449fbebc0a7f0379aa4f",
      "127e124d974344a3b200b48ad73f7cad",
      "07ecaea81210427185e74c4fe06fd30b",
      "b9a9fb33a827478eb392c398d6841c5f",
      "cffbc8c9a4ae4f98a042f0ca48b214a8",
      "f8461eed222e433d96fb1381f677fd33",
      "e3127b4dec314666b2aa13e298af3c8c",
      "e77548b9c13a41dc9bdb1b0e54ee1eb0",
      "137ed7e7a9f441f186b78babf6617a9c",
      "1b1e8137af4d40ceb31b178060e7b9b6",
      "9595bb5c342a4952b3f2789563541ffc",
      "488090cd89fa4dc7b56860401f27ef19",
      "20584b236ed64c7b86145f515bdb7928",
      "c5b8173074454504bf94b5e476661af8",
      "38f930343022410d967df05e35322104",
      "caac6bf31f7443ca8e9d843d3e283259",
      "cb14e2bb58b54e78a0cb30d90d0bd31e",
      "cc26517341dd47f1a5557dac1c13be84",
      "e8bc9055a68d42d98027777822e5014a",
      "036cd44a0bf5434cb704737d08d615d0",
      "4daacd240387485eb6d6ab69f8617d7a",
      "40f3aaf2714a48d68fd641d5b196adfa",
      "b71eacbe4cf244a4a8795fc22a317969",
      "b9203cd75ecf49e19e9be64d02fb79d1",
      "79a721a3dddb4b57a4aa7526614d5345",
      "c87528f3c4e04764ac8ebae2dbfb0a58",
      "81a8cf9d438a4dff808409f8d6eac56f",
      "2212bb64c3384c038a319c6255fe58be",
      "b6ebafe6c3414d5b86b699608f849973",
      "30a8fa60e9b54608ac0b1865c2269448",
      "efef64c4f6834eb6b3c4cc8529edeaf5",
      "dfc38f3984cc452b8a07a8ff1541752b",
      "24a7593f1ada4bfcbf826075be255113",
      "869be56b8fc84ffd87d1c9c297441d62",
      "7935aa4cabb54d7493c6538b2428b2f4",
      "ad9ba28a7b7a436680ec799c336b2df9",
      "f29d51e241564654b394350c06f609cd",
      "b5725dbb5ba446bc9dccafea3aa1db62",
      "d37b6f4c3f2b4293937c21beb541e32d",
      "cb36781cca774fef907ab5ae42b6a0ad",
      "a7bb01bbb0f54a8cbedbe69a7e42ba05",
      "b1e83c52ec654dd993ec9b3e87ed096a",
      "ad7638094a12423d83258c77fc2af1e3"
     ]
    },
    "id": "v9GnyMDQcOyi",
    "outputId": "fa9dd603-a411-46df-fcff-17a72ce3ec7f"
   },
   "outputs": [
    {
     "data": {
      "application/vnd.jupyter.widget-view+json": {
       "model_id": "e054975033d64abdaa23d7d0676d952e",
       "version_major": 2,
       "version_minor": 0
      },
      "text/plain": [
       "config.json:   0%|          | 0.00/953 [00:00<?, ?B/s]"
      ]
     },
     "metadata": {},
     "output_type": "display_data"
    },
    {
     "data": {
      "application/vnd.jupyter.widget-view+json": {
       "model_id": "f3f878c399ca4c46afdd5124afe376c8",
       "version_major": 2,
       "version_minor": 0
      },
      "text/plain": [
       "model.safetensors:   0%|          | 0.00/669M [00:00<?, ?B/s]"
      ]
     },
     "metadata": {},
     "output_type": "display_data"
    },
    {
     "data": {
      "application/vnd.jupyter.widget-view+json": {
       "model_id": "9595bb5c342a4952b3f2789563541ffc",
       "version_major": 2,
       "version_minor": 0
      },
      "text/plain": [
       "tokenizer_config.json:   0%|          | 0.00/39.0 [00:00<?, ?B/s]"
      ]
     },
     "metadata": {},
     "output_type": "display_data"
    },
    {
     "data": {
      "application/vnd.jupyter.widget-view+json": {
       "model_id": "40f3aaf2714a48d68fd641d5b196adfa",
       "version_major": 2,
       "version_minor": 0
      },
      "text/plain": [
       "vocab.txt: 0.00B [00:00, ?B/s]"
      ]
     },
     "metadata": {},
     "output_type": "display_data"
    },
    {
     "data": {
      "application/vnd.jupyter.widget-view+json": {
       "model_id": "24a7593f1ada4bfcbf826075be255113",
       "version_major": 2,
       "version_minor": 0
      },
      "text/plain": [
       "special_tokens_map.json:   0%|          | 0.00/112 [00:00<?, ?B/s]"
      ]
     },
     "metadata": {},
     "output_type": "display_data"
    },
    {
     "name": "stderr",
     "output_type": "stream",
     "text": [
      "Device set to use cpu\n"
     ]
    }
   ],
   "source": [
    "classifier = pipeline('sentiment-analysis', model=\"nlptown/bert-base-multilingual-uncased-sentiment\")\n"
   ]
  },
  {
   "cell_type": "code",
   "execution_count": 7,
   "metadata": {
    "colab": {
     "base_uri": "https://localhost:8080/"
    },
    "id": "AJPGVI0rcPyx",
    "outputId": "039c6e50-2d72-4faa-dd2a-e6ee66aa8067"
   },
   "outputs": [
    {
     "data": {
      "text/plain": [
       "[{'label': '3 stars', 'score': 0.33688199520111084}]"
      ]
     },
     "execution_count": 7,
     "metadata": {},
     "output_type": "execute_result"
    }
   ],
   "source": [
    "classifier(\"Esperamos que no lo odie.\")\n"
   ]
  },
  {
   "cell_type": "markdown",
   "metadata": {
    "id": "hxLN0GA-cqmM"
   },
   "source": [
    "This classifier can now deal with texts in English, French, but also Dutch, German, Italian and Spanish! You can also replace that name by a local folder where you have saved a pretrained model (see below). You can also pass a model object and its associated tokenizer.\n",
    "\n",
    "We will need two classes for this. The first is AutoTokenizer, which we will use to download the tokenizer associated to the model we picked and instantiate it. The second is AutoModelForSequenceClassification (or TFAutoModelForSequenceClassification if you are using TensorFlow), which we will use to download the model itself. Note that if we were using the library on an other task, the class of the model would change. The task summary tutorial summarizes which class is used for which task."
   ]
  },
  {
   "cell_type": "code",
   "execution_count": 8,
   "metadata": {
    "id": "ff5CAzVeddvQ"
   },
   "outputs": [],
   "source": [
    "from transformers import AutoTokenizer, TFAutoModelForSequenceClassification\n"
   ]
  },
  {
   "cell_type": "markdown",
   "metadata": {
    "id": "Vp3nUuPsdh6L"
   },
   "source": [
    "Now, to download the models and tokenizer we found previously, we just have to use the\n",
    "AutoModelForSequenceClassification.from_pretrained method (feel free to replace model_name by any other model from the model hub):"
   ]
  },
  {
   "cell_type": "code",
   "execution_count": 9,
   "metadata": {
    "colab": {
     "base_uri": "https://localhost:8080/",
     "height": 194,
     "referenced_widgets": [
      "7225005407074ba19a1363c02d3bdc2a",
      "4cf649a395ea40f3ba5c2999e974ca68",
      "02a57c83a6ab4a3aa3b87571e7650fcd",
      "45e8525ff8ce4590bebfac2f9f777e56",
      "912f49b631ea403e847cb33678730747",
      "8d2c6f26b5c849d08c9bf1b31a546fd6",
      "a8ec920215fb41999607d5d6d7d9a6ce",
      "d400a946a677420aa482a33dc5bca25f",
      "d5f77b2bdeee47e8a2a13164fe746aa3",
      "654e3c93337d4bddb8e0ff00f3ba4957",
      "b28877a32220489fa684146212af7fe3"
     ]
    },
    "id": "FKBAA1BXdqUK",
    "outputId": "7c435ab8-7874-4411-a84e-7cbb54aeb8d0"
   },
   "outputs": [
    {
     "data": {
      "application/vnd.jupyter.widget-view+json": {
       "model_id": "7225005407074ba19a1363c02d3bdc2a",
       "version_major": 2,
       "version_minor": 0
      },
      "text/plain": [
       "pytorch_model.bin:   0%|          | 0.00/669M [00:00<?, ?B/s]"
      ]
     },
     "metadata": {},
     "output_type": "display_data"
    },
    {
     "name": "stderr",
     "output_type": "stream",
     "text": [
      "TensorFlow and JAX classes are deprecated and will be removed in Transformers v5. We recommend migrating to PyTorch classes or pinning your version of Transformers.\n",
      "All PyTorch model weights were used when initializing TFBertForSequenceClassification.\n",
      "\n",
      "All the weights of TFBertForSequenceClassification were initialized from the PyTorch model.\n",
      "If your task is similar to the task the model of the checkpoint was trained on, you can already use TFBertForSequenceClassification for predictions without further training.\n",
      "TensorFlow and JAX classes are deprecated and will be removed in Transformers v5. We recommend migrating to PyTorch classes or pinning your version of Transformers.\n",
      "Device set to use 0\n"
     ]
    }
   ],
   "source": [
    "model_name = \"nlptown/bert-base-multilingual-uncased-sentiment\"\n",
    "# This model only exists in PyTorch, so we use the `from_pt` flag to import that model in TensorFlow.\n",
    "model = TFAutoModelForSequenceClassification.from_pretrained(model_name, from_pt=True)\n",
    "tokenizer = AutoTokenizer.from_pretrained(model_name)\n",
    "classifier = pipeline('sentiment-analysis', model=model, tokenizer=tokenizer)\n"
   ]
  },
  {
   "cell_type": "markdown",
   "metadata": {
    "id": "vikhAwdbeB6_"
   },
   "source": [
    "# Under the Hood: pretrained models\n"
   ]
  },
  {
   "cell_type": "code",
   "execution_count": 11,
   "metadata": {
    "colab": {
     "base_uri": "https://localhost:8080/",
     "height": 240,
     "referenced_widgets": [
      "bda1dbb98d914a5d8c653bf65bb2ddce",
      "abe28c4bf44d4c59adbbcf956e3a429c",
      "c46bf559b7554844844f2e27482f413b",
      "69f863a9b9f34d2d905dd637ef2a0e39",
      "368621e4c624499e8eb0b1f7236754e5",
      "7c0e9c0789194c7db50a22c13d31a600",
      "9ed47ce032a84de08e715be4a5853877",
      "75cf099829e84e0282a7a46230396489",
      "1beb004bb3364fb29c407d64c60ea128",
      "086307bcedc04659b2de3d10facef59b",
      "68a075ca0e254f48b73c0b40c4df1bbd",
      "a368ad0ce7ee42caa271a5472ad4de2d",
      "171cc65a49be481fa58cce362702bde6",
      "a4d480dd7ef043abb506ef36371d5815",
      "a743953254014ad79a35017186216bac",
      "3c6c996fe1fe4cc8b0beb747b211a9dd",
      "9ffeed09b37b44cbbad3ad4c5cb9e69d",
      "fdca45cb521c4a7abaa1c45b2358d247",
      "823cb8585d424a959d0662fa8b16a80f",
      "9f0074b0262a494f854d55be0c1440a7",
      "e423e405c301401ab5bf54155f9dfdcc",
      "9243b6bc554743cf857045c6e94a63c2",
      "44b8278a418f4d31b4de0db7d556e5b2",
      "bb507acf94224b7895d3d553f49deb8b",
      "8e50d837a6744045ac6312a9cd03f18d",
      "a6e34ee178e242608df877ea05db185c",
      "5c682585674e4f8687e3b320ead87ad8",
      "41eea22c6da64f17926a9416fb3454dc",
      "37a44680eb844669aa138dd2c67908bc",
      "cbc0695cdc1b4797a32657d34b9366eb",
      "82942c13574a4fbc9d8fcb9089f2c6d8",
      "546bdac2c70046d08159593cc276e559",
      "8a62e82a31dc4fea8168eb373c3dcbf3"
     ]
    },
    "id": "Koytl9H4eL0W",
    "outputId": "11782e35-14a1-4a7d-d991-542c1280aff4"
   },
   "outputs": [
    {
     "data": {
      "application/vnd.jupyter.widget-view+json": {
       "model_id": "bda1dbb98d914a5d8c653bf65bb2ddce",
       "version_major": 2,
       "version_minor": 0
      },
      "text/plain": [
       "tokenizer_config.json:   0%|          | 0.00/48.0 [00:00<?, ?B/s]"
      ]
     },
     "metadata": {},
     "output_type": "display_data"
    },
    {
     "data": {
      "application/vnd.jupyter.widget-view+json": {
       "model_id": "a368ad0ce7ee42caa271a5472ad4de2d",
       "version_major": 2,
       "version_minor": 0
      },
      "text/plain": [
       "vocab.txt:   0%|          | 0.00/232k [00:00<?, ?B/s]"
      ]
     },
     "metadata": {},
     "output_type": "display_data"
    },
    {
     "data": {
      "application/vnd.jupyter.widget-view+json": {
       "model_id": "44b8278a418f4d31b4de0db7d556e5b2",
       "version_major": 2,
       "version_minor": 0
      },
      "text/plain": [
       "pytorch_model.bin:   0%|          | 0.00/268M [00:00<?, ?B/s]"
      ]
     },
     "metadata": {},
     "output_type": "display_data"
    },
    {
     "name": "stderr",
     "output_type": "stream",
     "text": [
      "All PyTorch model weights were used when initializing TFDistilBertForSequenceClassification.\n",
      "\n",
      "All the weights of TFDistilBertForSequenceClassification were initialized from the PyTorch model.\n",
      "If your task is similar to the task the model of the checkpoint was trained on, you can already use TFDistilBertForSequenceClassification for predictions without further training.\n",
      "TensorFlow and JAX classes are deprecated and will be removed in Transformers v5. We recommend migrating to PyTorch classes or pinning your version of Transformers.\n"
     ]
    },
    {
     "name": "stdout",
     "output_type": "stream",
     "text": [
      "Predicted label id: [1]\n"
     ]
    }
   ],
   "source": [
    "from transformers import AutoTokenizer, TFAutoModelForSequenceClassification\n",
    "\n",
    "model_name = \"distilbert-base-uncased-finetuned-sst-2-english\"\n",
    "\n",
    "tokenizer = AutoTokenizer.from_pretrained(model_name)\n",
    "tf_model  = TFAutoModelForSequenceClassification.from_pretrained(model_name, from_pt=True)\n",
    "\n",
    "# quick test\n",
    "import tensorflow as tf\n",
    "inputs = tokenizer(\"Great movie!\", return_tensors=\"tf\")\n",
    "outputs = tf_model(**inputs)\n",
    "print(\"Predicted label id:\", tf.math.argmax(outputs.logits, axis=-1).numpy())\n",
    "\n"
   ]
  },
  {
   "cell_type": "markdown",
   "metadata": {
    "id": "zmDP2ZS1eYAt"
   },
   "source": [
    "We mentioned the tokenizer is responsible for the preprocessing of your texts. First, it will split a given text in words (or part of words, punctuation symbols, etc.) usually called tokens. There are multiple rules that can govern that process (you can learn more about them in the tokenizer summary), which is why we need to instantiate the tokenizer using the name of the model, to make sure we use the same rules as when the model was pretrained.\n",
    "\n",
    "The second step is to convert those tokens into numbers, to be able to build a tensor out of them and feed them to the model. To do this, the tokenizer has a vocab, which is the part we download when we instantiate it with the from_pretrained method, since we need to use the same vocab as when the model was pretrained.\n",
    "\n",
    "To apply these steps on a given text, we can just feed it to our tokenizer:"
   ]
  },
  {
   "cell_type": "code",
   "execution_count": 12,
   "metadata": {
    "id": "zXnUhREdeotb"
   },
   "outputs": [],
   "source": [
    "inputs = tokenizer(\"We are very happy to show you the 😉 Transformers library.\")\n"
   ]
  },
  {
   "cell_type": "markdown",
   "metadata": {
    "id": "pfigEZUJez8K"
   },
   "source": [
    "This returns a dictionary string to list of ints. It contains the ids of the tokens, as mentioned before, but also additional arguments that will be useful to the model. Here for instance, we also have an attention mask that the model will use to have a better understanding of the sequence:"
   ]
  },
  {
   "cell_type": "code",
   "execution_count": 13,
   "metadata": {
    "colab": {
     "base_uri": "https://localhost:8080/"
    },
    "id": "6NADcJQLe0cD",
    "outputId": "497c6ba5-9f92-4615-b0cb-66a8e7dc512b"
   },
   "outputs": [
    {
     "name": "stdout",
     "output_type": "stream",
     "text": [
      "{'input_ids': [101, 2057, 2024, 2200, 3407, 2000, 2265, 2017, 1996, 100, 19081, 3075, 1012, 102], 'attention_mask': [1, 1, 1, 1, 1, 1, 1, 1, 1, 1, 1, 1, 1, 1]}\n"
     ]
    }
   ],
   "source": [
    "print(inputs)\n"
   ]
  },
  {
   "cell_type": "markdown",
   "metadata": {
    "id": "LJQ9M9Fze78S"
   },
   "source": [
    "You can pass a list of sentences directly to your tokenizer. If your goal is to send them through your model as a batch, you probably want to pad them all to the same length, truncate them to the maximum length the model can accept and get tensors back. You can specify all of that to the tokenizer:"
   ]
  },
  {
   "cell_type": "code",
   "execution_count": 14,
   "metadata": {
    "id": "L-yHz2NAfAgy"
   },
   "outputs": [],
   "source": [
    "tf_batch = tokenizer(\n",
    "    [\"We are very happy to show you the 😉 Transformers library.\", \"We hope you don't hate it.\"],\n",
    "    padding=True,\n",
    "    truncation=True,\n",
    "    max_length=512,\n",
    "    return_tensors=\"tf\"\n",
    ")\n"
   ]
  },
  {
   "cell_type": "markdown",
   "metadata": {
    "id": "-mxk5djSfFBB"
   },
   "source": [
    "The padding is automatically applied on the side expected by the model (in this case, on the right), with the padding token the model was pretrained with. The attention mask is also adapted to take the padding into account:"
   ]
  },
  {
   "cell_type": "code",
   "execution_count": 15,
   "metadata": {
    "colab": {
     "base_uri": "https://localhost:8080/"
    },
    "id": "87VjSa-NgLks",
    "outputId": "9ab49711-f7b9-4cc5-c03a-0effef1834b9"
   },
   "outputs": [
    {
     "name": "stdout",
     "output_type": "stream",
     "text": [
      "input_ids: [[101, 2057, 2024, 2200, 3407, 2000, 2265, 2017, 1996, 100, 19081, 3075, 1012, 102], [101, 2057, 3246, 2017, 2123, 1005, 1056, 5223, 2009, 1012, 102, 0, 0, 0]]\n",
      "attention_mask: [[1, 1, 1, 1, 1, 1, 1, 1, 1, 1, 1, 1, 1, 1], [1, 1, 1, 1, 1, 1, 1, 1, 1, 1, 1, 0, 0, 0]]\n"
     ]
    }
   ],
   "source": [
    "for key, value in tf_batch.items():\n",
    "    print(f\"{key}: {value.numpy().tolist()}\")\n"
   ]
  },
  {
   "cell_type": "markdown",
   "metadata": {
    "id": "0LCEc6acgXRS"
   },
   "source": [
    "You can learn more about tokenizers here.\n",
    "\n",
    "Once your input has been preprocessed by the tokenizer, you can send it directly to the model. As we mentioned, it will contain all the relevant information the model needs. If you're using a TensorFlow model, you can pass the dictionary keys directly to tensors, for a PyTorch model, you need to unpack the dictionary by adding **."
   ]
  },
  {
   "cell_type": "code",
   "execution_count": 16,
   "metadata": {
    "id": "i2-dL3eRgXxK"
   },
   "outputs": [],
   "source": [
    "tf_outputs = tf_model(tf_batch)\n"
   ]
  },
  {
   "cell_type": "markdown",
   "metadata": {
    "id": "AK8xTknvgjgA"
   },
   "source": [
    "In 😉 Transformers, all outputs are tuples (with only one element potentially). Here, we get a tuple with just the final activations of the model."
   ]
  },
  {
   "cell_type": "code",
   "execution_count": 17,
   "metadata": {
    "colab": {
     "base_uri": "https://localhost:8080/"
    },
    "id": "ogmBgVPzgYJj",
    "outputId": "bb8dae84-4f81-4d5a-849a-eefe1e6b51d0"
   },
   "outputs": [
    {
     "name": "stdout",
     "output_type": "stream",
     "text": [
      "TFSequenceClassifierOutput(loss=None, logits=<tf.Tensor: shape=(2, 2), dtype=float32, numpy=\n",
      "array([[-4.0832963 ,  4.3364143 ],\n",
      "       [ 0.08181235, -0.04178774]], dtype=float32)>, hidden_states=None, attentions=None)\n"
     ]
    }
   ],
   "source": [
    "print(tf_outputs)\n"
   ]
  },
  {
   "cell_type": "markdown",
   "metadata": {
    "id": "qCjl97fCgtff"
   },
   "source": [
    "The model can return more than just the final activations, which is why the output is a tuple. Here we only asked for the final activations, so we get a tuple with one element.\n",
    "\n",
    "**NOTE**: All 😉 Transformers models (PyTorch or TensorFlow) return the activations of the model before the final activation function (like SoftMax) since this final activation function is often fused with the loss."
   ]
  },
  {
   "cell_type": "markdown",
   "metadata": {
    "id": "mCYFUvlnhIw1"
   },
   "source": [
    "# Accessing the Code\n",
    "\n",
    "The AutoModel and AutoTokenizer classes are just shortcuts that will automatically work with any pretrained model. Behind the scenes, the library has one model class per combination of architecture plus class, so the code is easy to access and tweak if you need to.\n",
    "\n",
    "In our previous example, the model was called \"distilbert-base-uncased-finetuned-sst-2-english\", which means it's using the DistilBERT architecture. As AutoModelForSequenceClassification (or TFAutoModelForSequenceClassification if you are using TensorFlow) was used, the model automatically created is then a DistilBertForSequenceClassification. You can look at its documentation for all details relevant to that specific model, or browse the source code. This is how you would directly instantiate model and tokenizer without the auto magic:"
   ]
  },
  {
   "cell_type": "code",
   "execution_count": 20,
   "metadata": {
    "colab": {
     "base_uri": "https://localhost:8080/"
    },
    "id": "ZpaueYEvhMXq",
    "outputId": "90f1c9a5-d7c8-43f9-be57-083886805448"
   },
   "outputs": [
    {
     "name": "stderr",
     "output_type": "stream",
     "text": [
      "All PyTorch model weights were used when initializing TFDistilBertForSequenceClassification.\n",
      "\n",
      "All the weights of TFDistilBertForSequenceClassification were initialized from the PyTorch model.\n",
      "If your task is similar to the task the model of the checkpoint was trained on, you can already use TFDistilBertForSequenceClassification for predictions without further training.\n"
     ]
    }
   ],
   "source": [
    "from transformers import DistilBertTokenizer, TFDistilBertForSequenceClassification\n",
    "model_name = \"distilbert-base-uncased-finetuned-sst-2-english\"\n",
    "model = TFDistilBertForSequenceClassification.from_pretrained(model_name, from_pt=True)\n",
    "tokenizer = DistilBertTokenizer.from_pretrained(model_name)\n"
   ]
  },
  {
   "cell_type": "markdown",
   "metadata": {
    "id": "GfakBI9IhVTx"
   },
   "source": [
    "# Customize the Model\n",
    "\n",
    "If you want to change how the model itself is built, you can define your custom configuration class. Each architecture comes with its own relevant configuration (in the case of DistilBERT, DistilBertConfig) which allows you to specify any of the hidden dimension, dropout rate, etc. If you do core modifications, like changing the hidden size, you won't be able to use a pretrained model anymore and will need to train from scratch. You would then instantiate the model directly from this configuration.\n",
    "\n",
    "Here we use the predefined vocabulary of DistilBERT (hence load the tokenizer with the DistilBertTokenizer.from_pretrained method) and initialize the model from scratch (hence instantiate the model from the configuration instead of using the DistilBertForSequenceClassification.from_pretrained method)."
   ]
  },
  {
   "cell_type": "code",
   "execution_count": 21,
   "metadata": {
    "colab": {
     "base_uri": "https://localhost:8080/",
     "height": 113,
     "referenced_widgets": [
      "0763c44665da43ba880d52be96e597e3",
      "076967c8c012403eb9d068d156d002fd",
      "39d9edc4791740c4bdeeddc65458833d",
      "094175d40267403a9d63a58eb4b0c566",
      "fdc6200fd4904438afcee20511cd8464",
      "6c1838c6cd534a80a62535dc41945583",
      "50457c85ef2643eebbbe2d5314159b38",
      "f281165c629f457ba8e26e33e57aa917",
      "8987eed217d2430d95b4cff3630e7e7a",
      "1179097da83b45eaa14d5a514b66dfbb",
      "61aa9f4483594062a7f1e359f0d110e5",
      "ba19725ec34944b3b1efefbf7b6e67d3",
      "f1e7b25819f047c6afa5359bbb653909",
      "bd3b71cfd30f408b8b10e27d253731af",
      "4c57c75aed6d4e0ba19b7632e0ebeca2",
      "345b712512624560987b4f47c055ab35",
      "9a12853cfed04d47b324dc9c7f908233",
      "c5527cf23e7640cea06faaf5bc934a02",
      "c71cdfda51f446349c559ec90349191f",
      "e7b3a83ea2e54d03b242626cb3a7dee2",
      "b0433ca2f0fa431391bef4a5757825b8",
      "7fc3dd5756aa4179a4289741cb6f2942",
      "970030fa26e84b6f8e3d3db2a111bfc9",
      "a236ea889efb46bb9d356ce4151e6f9c",
      "81ae43794d184027b0e30b49b692114d",
      "01b6fbe082124c5093df050e84026d2f",
      "92320c0561634bbaa9288cf29f4b30c5",
      "02a333349ea0485ab20c30952b3f8455",
      "187665230b014f349733503b915fefee",
      "219a34fe3ce244ffaf2b01124d6e6add",
      "a8a53378c98441f2ae24c5cce9c18839",
      "4233969bea2e46038d0ed0d63d0297ee",
      "4265983bc2d7489bbdbe3f63ba158cf9"
     ]
    },
    "id": "tRHS1zLEhWd5",
    "outputId": "dc853403-fd89-4a91-821e-0bac8b204ccb"
   },
   "outputs": [
    {
     "data": {
      "application/vnd.jupyter.widget-view+json": {
       "model_id": "0763c44665da43ba880d52be96e597e3",
       "version_major": 2,
       "version_minor": 0
      },
      "text/plain": [
       "tokenizer_config.json:   0%|          | 0.00/48.0 [00:00<?, ?B/s]"
      ]
     },
     "metadata": {},
     "output_type": "display_data"
    },
    {
     "data": {
      "application/vnd.jupyter.widget-view+json": {
       "model_id": "ba19725ec34944b3b1efefbf7b6e67d3",
       "version_major": 2,
       "version_minor": 0
      },
      "text/plain": [
       "vocab.txt:   0%|          | 0.00/232k [00:00<?, ?B/s]"
      ]
     },
     "metadata": {},
     "output_type": "display_data"
    },
    {
     "data": {
      "application/vnd.jupyter.widget-view+json": {
       "model_id": "970030fa26e84b6f8e3d3db2a111bfc9",
       "version_major": 2,
       "version_minor": 0
      },
      "text/plain": [
       "tokenizer.json:   0%|          | 0.00/466k [00:00<?, ?B/s]"
      ]
     },
     "metadata": {},
     "output_type": "display_data"
    }
   ],
   "source": [
    "from transformers import DistilBertConfig, DistilBertTokenizer, TFDistilBertForSequenceClassification\n",
    "config = DistilBertConfig(n_heads=8, dim=512, hidden_dim=4*512)\n",
    "tokenizer = DistilBertTokenizer.from_pretrained('distilbert-base-uncased')\n",
    "model = TFDistilBertForSequenceClassification(config)\n"
   ]
  },
  {
   "cell_type": "markdown",
   "metadata": {
    "id": "PLozrdY6ha4e"
   },
   "source": [
    "For something that only changes the head of the model (for instance, the number of labels), you can still use a pretrained model for the body. For instance, let's define a classifier for 10 different labels using a pretrained body. We could create a configuration with all the default values and just change the number of labels, but more easily, you can directly pass any argument a configuration would take to the from_pretrained method and it will update the default configuration with it:"
   ]
  },
  {
   "cell_type": "code",
   "execution_count": 23,
   "metadata": {
    "colab": {
     "base_uri": "https://localhost:8080/",
     "height": 176,
     "referenced_widgets": [
      "92fcbca0e1ec4a7e809726d2181cc5e1",
      "063344fec3cf48eb95b0f6bc6ff291dc",
      "cb03e6bd29d14498a0e0d2c86705753d",
      "77286f0605214c6aaaab36c71d252cfa",
      "585ec93a491f4f6391fe8dd4c5ee67ef",
      "f0aca946ea5d47078d89788e3a5a28ef",
      "cbe3e016024e45cab0ad0c2eb0678287",
      "fbe5d525b16f4f64aab7fb0d1ca095ed",
      "0535458dda6345878125b8d5e034eb38",
      "788d3952ecab4e678829d194a8b97131",
      "96f15104111a466abe19b902cf30ca46"
     ]
    },
    "id": "aicR4vTOhe_O",
    "outputId": "99ade3d8-d203-44eb-f657-28ebc01d300a"
   },
   "outputs": [
    {
     "data": {
      "application/vnd.jupyter.widget-view+json": {
       "model_id": "92fcbca0e1ec4a7e809726d2181cc5e1",
       "version_major": 2,
       "version_minor": 0
      },
      "text/plain": [
       "pytorch_model.bin:   0%|          | 0.00/268M [00:00<?, ?B/s]"
      ]
     },
     "metadata": {},
     "output_type": "display_data"
    },
    {
     "name": "stderr",
     "output_type": "stream",
     "text": [
      "Some weights of the PyTorch model were not used when initializing the TF 2.0 model TFDistilBertForSequenceClassification: ['vocab_projector.weight', 'vocab_transform.bias', 'vocab_layer_norm.bias', 'vocab_layer_norm.weight', 'vocab_projector.bias', 'vocab_transform.weight']\n",
      "- This IS expected if you are initializing TFDistilBertForSequenceClassification from a PyTorch model trained on another task or with another architecture (e.g. initializing a TFBertForSequenceClassification model from a BertForPreTraining model).\n",
      "- This IS NOT expected if you are initializing TFDistilBertForSequenceClassification from a PyTorch model that you expect to be exactly identical (e.g. initializing a TFBertForSequenceClassification model from a BertForSequenceClassification model).\n",
      "Some weights or buffers of the TF 2.0 model TFDistilBertForSequenceClassification were not initialized from the PyTorch model and are newly initialized: ['pre_classifier.weight', 'pre_classifier.bias', 'classifier.weight', 'classifier.bias']\n",
      "You should probably TRAIN this model on a down-stream task to be able to use it for predictions and inference.\n"
     ]
    },
    {
     "name": "stdout",
     "output_type": "stream",
     "text": [
      "(1, 10)\n"
     ]
    }
   ],
   "source": [
    "from transformers import AutoTokenizer, DistilBertConfig, TFDistilBertForSequenceClassification\n",
    "\n",
    "model_name = \"distilbert-base-uncased\"  # base encoder weights (PyTorch on HF)\n",
    "\n",
    "config = DistilBertConfig.from_pretrained(model_name, num_labels=10)\n",
    "tokenizer = AutoTokenizer.from_pretrained(model_name)\n",
    "\n",
    "# Convert PyTorch -> TensorFlow, and re-init the classification head for 10 labels\n",
    "model = TFDistilBertForSequenceClassification.from_pretrained(\n",
    "    model_name,\n",
    "    config=config,\n",
    "    from_pt=True,\n",
    "    ignore_mismatched_sizes=True,\n",
    ")\n",
    "\n",
    "# quick sanity check\n",
    "import tensorflow as tf\n",
    "inputs = tokenizer(\"hello world\", return_tensors=\"tf\")\n",
    "logits = model(**inputs).logits\n",
    "print(logits.shape)  # should be (1, 10)\n"
   ]
  }
 ],
 "metadata": {
  "colab": {
   "provenance": []
  },
  "kernelspec": {
   "display_name": "Python 3",
   "name": "python3"
  },
  "language_info": {
   "name": "python"
  }
 },
 "nbformat": 4,
 "nbformat_minor": 0
}
